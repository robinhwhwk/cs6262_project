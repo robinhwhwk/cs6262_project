{
 "cells": [
  {
   "cell_type": "code",
   "execution_count": 2,
   "id": "47ea395b",
   "metadata": {},
   "outputs": [],
   "source": [
    "import pandas as pd"
   ]
  },
  {
   "cell_type": "code",
   "execution_count": 9,
   "id": "c47b8373",
   "metadata": {},
   "outputs": [
    {
     "name": "stdout",
     "output_type": "stream",
     "text": [
      "result   Blocked  Error  Not Blocked\n",
      "browser                             \n",
      "Chrome         1    495            4\n",
      "Edge         299    127           74\n",
      "Firefox       72    143          285\n",
      "Safari        79      4          417\n"
     ]
    }
   ],
   "source": [
    "df = pd.read_csv(\"phishing_test_results.csv\")\n",
    "grouped_df = df.groupby(\"browser\")\n",
    "dfs_by_browser = {}\n",
    "for browser, group in grouped_df:\n",
    "    dfs_by_browser[browser] = group\n",
    "\n",
    "counts = df.groupby([\"browser\", \"result\"]).size().unstack(fill_value=0)\n",
    "\n",
    "print(counts)\n"
   ]
  },
  {
   "cell_type": "code",
   "execution_count": null,
   "id": "838020d5",
   "metadata": {},
   "outputs": [],
   "source": [
    "chrome_df = dfs_by_browser.get(\"Chrome\")\n",
    "edge_df = dfs_by_browser.get(\"Edge\")\n",
    "firefox_df = dfs_by_browser.get(\"Firefox\")\n",
    "safari_df = dfs_by_browser.get(\"Safari\")"
   ]
  },
  {
   "cell_type": "markdown",
   "id": "1d5a6822",
   "metadata": {},
   "source": [
    "101 399\n",
    "401 99\n",
    "101 399\n",
    "80 420"
   ]
  }
 ],
 "metadata": {
  "kernelspec": {
   "display_name": "env",
   "language": "python",
   "name": "python3"
  },
  "language_info": {
   "codemirror_mode": {
    "name": "ipython",
    "version": 3
   },
   "file_extension": ".py",
   "mimetype": "text/x-python",
   "name": "python",
   "nbconvert_exporter": "python",
   "pygments_lexer": "ipython3",
   "version": "3.12.6"
  }
 },
 "nbformat": 4,
 "nbformat_minor": 5
}
